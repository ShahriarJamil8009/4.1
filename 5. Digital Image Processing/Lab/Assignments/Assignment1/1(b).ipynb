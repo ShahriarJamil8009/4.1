{
 "cells": [
  {
   "cell_type": "code",
   "execution_count": 92,
   "metadata": {},
   "outputs": [],
   "source": [
    "## 1st step: import necessary libreries\n",
    "import cv2\n",
    "import matplotlib.pyplot as plt\n",
    "import numpy as np"
   ]
  },
  {
   "cell_type": "code",
   "execution_count": 93,
   "metadata": {},
   "outputs": [],
   "source": [
    "## 2nd step: assign and resize image\n",
    "originalImage = cv2.imread(\"image.jpg\", cv2.IMREAD_GRAYSCALE)\n",
    "originalImage = cv2.resize(originalImage, (512, 512))"
   ]
  },
  {
   "cell_type": "code",
   "execution_count": 94,
   "metadata": {},
   "outputs": [],
   "source": [
    "## 4th step: decrease number of bits by one\n",
    "def decreasedBits(image, numOfBits):\n",
    "    maxPixelValue = 2 ** numOfBits - 1\n",
    "    decreasedImage = (image * (maxPixelValue / 255)).astype(np.uint8)\n",
    "    return decreasedImage"
   ]
  },
  {
   "cell_type": "code",
   "execution_count": null,
   "metadata": {},
   "outputs": [],
   "source": [
    "## 3rd step: show image in ploats\n",
    "plt.figure(figsize=(16, 8))\n",
    "for i in range(1, 9):\n",
    "    plt.subplot(2, 4, i)\n",
    "    plt.title(f'Bits: {9-i}')\n",
    "    decreasedBit = decreasedBits(originalImage, 9-i)\n",
    "    plt.imshow(decreasedBit, cmap='gray')"
   ]
  }
 ],
 "metadata": {
  "kernelspec": {
   "display_name": "Python 3",
   "language": "python",
   "name": "python3"
  },
  "language_info": {
   "codemirror_mode": {
    "name": "ipython",
    "version": 3
   },
   "file_extension": ".py",
   "mimetype": "text/x-python",
   "name": "python",
   "nbconvert_exporter": "python",
   "pygments_lexer": "ipython3",
   "version": "3.13.0"
  }
 },
 "nbformat": 4,
 "nbformat_minor": 2
}
