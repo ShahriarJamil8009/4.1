{
 "cells": [
  {
   "cell_type": "code",
   "execution_count": 9,
   "metadata": {},
   "outputs": [],
   "source": [
    "## 1st step: import necessary libreries\n",
    "import cv2\n",
    "import matplotlib.pyplot as plt\n",
    "import numpy as np"
   ]
  },
  {
   "cell_type": "code",
   "execution_count": 10,
   "metadata": {},
   "outputs": [],
   "source": [
    "## 2nd step: assign and resize image\n",
    "originalImage = cv2.imread(\"image.jpg\", cv2.IMREAD_GRAYSCALE)\n",
    "originalImage = cv2.resize(originalImage, (512, 512))"
   ]
  },
  {
   "cell_type": "code",
   "execution_count": 11,
   "metadata": {},
   "outputs": [],
   "source": [
    "## 4th step: decrease resolution by half\n",
    "def decreasedPixels(image): \n",
    "    height, width = image.shape\n",
    "    height = height // 2\n",
    "    width = width //2\n",
    "    decreasedImage = np.zeros((height, width))    # zeros(): creates an array filled with zeros\n",
    "\n",
    "    for i in range(height):\n",
    "        for j in range(width):\n",
    "            decreasedImage[i, j] = np.mean(image[i*2 : ((i*2)+2), j*2 : ((j*2)+2)])\n",
    "            # mean(): calculates the arithmetic mean (average) of an array or matrix.\n",
    "    return decreasedImage"
   ]
  },
  {
   "cell_type": "code",
   "execution_count": null,
   "metadata": {},
   "outputs": [],
   "source": [
    "## 3rd step: show image in ploats\n",
    "plt.figure(figsize=(16, 8))\n",
    "for k in range (1, 7):\n",
    "    plt.subplot(2, 3, k)\n",
    "    plt.title(f\"{originalImage.shape}\")\n",
    "    plt.imshow(originalImage, cmap='gray')\n",
    "    originalImage = decreasedPixels(originalImage)"
   ]
  }
 ],
 "metadata": {
  "kernelspec": {
   "display_name": "Python 3",
   "language": "python",
   "name": "python3"
  },
  "language_info": {
   "codemirror_mode": {
    "name": "ipython",
    "version": 3
   },
   "file_extension": ".py",
   "mimetype": "text/x-python",
   "name": "python",
   "nbconvert_exporter": "python",
   "pygments_lexer": "ipython3",
   "version": "3.13.0"
  }
 },
 "nbformat": 4,
 "nbformat_minor": 2
}
